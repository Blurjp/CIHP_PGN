{
  "nbformat": 4,
  "nbformat_minor": 0,
  "metadata": {
    "colab": {
      "provenance": [],
      "authorship_tag": "ABX9TyNeiFSPs1UTApIKem8vt6Ia",
      "include_colab_link": true
    },
    "kernelspec": {
      "name": "python3",
      "display_name": "Python 3"
    },
    "language_info": {
      "name": "python"
    }
  },
  "cells": [
    {
      "cell_type": "markdown",
      "metadata": {
        "id": "view-in-github",
        "colab_type": "text"
      },
      "source": [
        "<a href=\"https://colab.research.google.com/github/Blurjp/CIHP_PGN/blob/master/CIHP_PGN.ipynb\" target=\"_parent\"><img src=\"https://colab.research.google.com/assets/colab-badge.svg\" alt=\"Open In Colab\"/></a>"
      ]
    },
    {
      "cell_type": "code",
      "execution_count": 1,
      "metadata": {
        "colab": {
          "base_uri": "https://localhost:8080/"
        },
        "id": "sBfiz8iV1byE",
        "outputId": "abec9062-1ca4-4b09-fbcb-6be4f301575c"
      },
      "outputs": [
        {
          "output_type": "stream",
          "name": "stdout",
          "text": [
            "Mounted at /content/drive\n"
          ]
        }
      ],
      "source": [
        "from google.colab import drive\n",
        "drive.mount('/content/drive')"
      ]
    },
    {
      "cell_type": "code",
      "source": [
        "!git clone https://github.com/Blurjp/CIHP_PGN.git"
      ],
      "metadata": {
        "colab": {
          "base_uri": "https://localhost:8080/"
        },
        "id": "5CkJwOtB1pAU",
        "outputId": "6cf07203-9bcd-482c-f277-5ea935bcb8fa"
      },
      "execution_count": 2,
      "outputs": [
        {
          "output_type": "stream",
          "name": "stdout",
          "text": [
            "Cloning into 'CIHP_PGN'...\n",
            "remote: Enumerating objects: 4405, done.\u001b[K\n",
            "remote: Counting objects: 100% (41/41), done.\u001b[K\n",
            "remote: Compressing objects: 100% (35/35), done.\u001b[K\n",
            "remote: Total 4405 (delta 16), reused 20 (delta 6), pack-reused 4364\u001b[K\n",
            "Receiving objects: 100% (4405/4405), 852.64 KiB | 3.82 MiB/s, done.\n",
            "Resolving deltas: 100% (722/722), done.\n"
          ]
        }
      ]
    },
    {
      "cell_type": "code",
      "source": [
        "%cd CIHP_PGN"
      ],
      "metadata": {
        "colab": {
          "base_uri": "https://localhost:8080/"
        },
        "id": "ryuBg97Z1uMb",
        "outputId": "4922155e-3c80-48c2-9f49-dcf22fa22f44"
      },
      "execution_count": 3,
      "outputs": [
        {
          "output_type": "stream",
          "name": "stdout",
          "text": [
            "/content/CIHP_PGN\n"
          ]
        }
      ]
    },
    {
      "cell_type": "code",
      "source": [
        "!pip install -r requirement.txt"
      ],
      "metadata": {
        "colab": {
          "base_uri": "https://localhost:8080/"
        },
        "id": "St4iHMiR11L9",
        "outputId": "adc93446-27eb-4924-8612-2e6f32044bfe"
      },
      "execution_count": 5,
      "outputs": [
        {
          "output_type": "stream",
          "name": "stdout",
          "text": [
            "Collecting absl-py==0.15.0 (from -r requirement.txt (line 1))\n",
            "  Using cached absl_py-0.15.0-py3-none-any.whl (132 kB)\n",
            "Collecting astor==0.8.1 (from -r requirement.txt (line 2))\n",
            "  Using cached astor-0.8.1-py2.py3-none-any.whl (27 kB)\n",
            "Requirement already satisfied: cached-property==1.5.2 in /usr/local/lib/python3.10/dist-packages (from -r requirement.txt (line 3)) (1.5.2)\n",
            "Collecting certifi==2021.10.8 (from -r requirement.txt (line 4))\n",
            "  Using cached certifi-2021.10.8-py2.py3-none-any.whl (149 kB)\n",
            "Requirement already satisfied: cycler==0.11.0 in /usr/local/lib/python3.10/dist-packages (from -r requirement.txt (line 5)) (0.11.0)\n",
            "Collecting fonttools==4.29.1 (from -r requirement.txt (line 6))\n",
            "  Using cached fonttools-4.29.1-py3-none-any.whl (895 kB)\n",
            "Collecting gast==0.2.2 (from -r requirement.txt (line 7))\n",
            "  Using cached gast-0.2.2.tar.gz (10 kB)\n",
            "  Preparing metadata (setup.py) ... \u001b[?25l\u001b[?25hdone\n",
            "Requirement already satisfied: google-pasta==0.2.0 in /usr/local/lib/python3.10/dist-packages (from -r requirement.txt (line 8)) (0.2.0)\n",
            "Collecting grpcio==1.42.0 (from -r requirement.txt (line 9))\n",
            "  Using cached grpcio-1.42.0-cp310-cp310-manylinux_2_17_x86_64.manylinux2014_x86_64.whl (4.0 MB)\n",
            "Collecting h5py==3.6.0 (from -r requirement.txt (line 10))\n",
            "  Using cached h5py-3.6.0-cp310-cp310-manylinux_2_12_x86_64.manylinux2010_x86_64.whl (4.5 MB)\n",
            "Collecting importlib-metadata==4.8.2 (from -r requirement.txt (line 11))\n",
            "  Using cached importlib_metadata-4.8.2-py3-none-any.whl (17 kB)\n",
            "Collecting Keras-Applications==1.0.8 (from -r requirement.txt (line 12))\n",
            "  Using cached Keras_Applications-1.0.8-py3-none-any.whl (50 kB)\n",
            "Collecting Keras-Preprocessing==1.1.2 (from -r requirement.txt (line 13))\n",
            "  Using cached Keras_Preprocessing-1.1.2-py2.py3-none-any.whl (42 kB)\n",
            "Collecting kiwisolver==1.3.2 (from -r requirement.txt (line 14))\n",
            "  Using cached kiwisolver-1.3.2-cp310-cp310-manylinux_2_12_x86_64.manylinux2010_x86_64.whl (1.6 MB)\n",
            "Collecting Markdown==3.3.4 (from -r requirement.txt (line 15))\n",
            "  Using cached Markdown-3.3.4-py3-none-any.whl (97 kB)\n",
            "Collecting matplotlib==3.5.1 (from -r requirement.txt (line 16))\n",
            "  Using cached matplotlib-3.5.1-cp310-cp310-manylinux_2_17_x86_64.manylinux2014_x86_64.whl (11.9 MB)\n",
            "\u001b[31mERROR: Could not find a version that satisfies the requirement mkl-fft==1.3.1 (from versions: none)\u001b[0m\u001b[31m\n",
            "\u001b[0m\u001b[31mERROR: No matching distribution found for mkl-fft==1.3.1\u001b[0m\u001b[31m\n",
            "\u001b[0m"
          ]
        }
      ]
    }
  ]
}